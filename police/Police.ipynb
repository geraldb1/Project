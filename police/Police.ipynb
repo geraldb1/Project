{
 "cells": [
  {
   "cell_type": "code",
   "execution_count": 1,
   "id": "e5bf492b-363b-4e3c-be2c-8096d1b0426b",
   "metadata": {},
   "outputs": [],
   "source": [
    "import pandas as pd\n",
    "import matplotlib.pyplot as plt\n",
    "import seaborn as sns"
   ]
  },
  {
   "cell_type": "code",
   "execution_count": 2,
   "id": "91dc1ebc-674d-43e4-9750-0d49db1c5d85",
   "metadata": {},
   "outputs": [],
   "source": [
    "uk_police = pd.read_csv('UK_Police_Street_Crime_2018-10-01_to_2021_09_31.csv')"
   ]
  },
  {
   "cell_type": "code",
   "execution_count": 3,
   "id": "a89a269f-627c-4ea4-a0d1-a40554ce8df0",
   "metadata": {},
   "outputs": [
    {
     "data": {
      "text/plain": [
       "(18994562, 13)"
      ]
     },
     "execution_count": 3,
     "metadata": {},
     "output_type": "execute_result"
    }
   ],
   "source": [
    "uk_police.shape"
   ]
  },
  {
   "cell_type": "markdown",
   "id": "fe144979",
   "metadata": {},
   "source": [
    "Hay un total de 18994562 de crimenes reportados a lo largo de todo el territorio de UK en el periodo 2018 y 2021"
   ]
  },
  {
   "cell_type": "code",
   "execution_count": 4,
   "id": "2ed46608-80e9-4aa3-9ac4-2c2a34ea3f6b",
   "metadata": {},
   "outputs": [
    {
     "data": {
      "text/html": [
       "<div>\n",
       "<style scoped>\n",
       "    .dataframe tbody tr th:only-of-type {\n",
       "        vertical-align: middle;\n",
       "    }\n",
       "\n",
       "    .dataframe tbody tr th {\n",
       "        vertical-align: top;\n",
       "    }\n",
       "\n",
       "    .dataframe thead th {\n",
       "        text-align: right;\n",
       "    }\n",
       "</style>\n",
       "<table border=\"1\" class=\"dataframe\">\n",
       "  <thead>\n",
       "    <tr style=\"text-align: right;\">\n",
       "      <th></th>\n",
       "      <th>Unnamed: 0</th>\n",
       "      <th>Crime ID</th>\n",
       "      <th>Month</th>\n",
       "      <th>Reported by</th>\n",
       "      <th>Falls within</th>\n",
       "      <th>Longitude</th>\n",
       "      <th>Latitude</th>\n",
       "      <th>Location</th>\n",
       "      <th>LSOA code</th>\n",
       "      <th>LSOA name</th>\n",
       "      <th>Crime type</th>\n",
       "      <th>Last outcome category</th>\n",
       "      <th>Context</th>\n",
       "    </tr>\n",
       "  </thead>\n",
       "  <tbody>\n",
       "    <tr>\n",
       "      <th>0</th>\n",
       "      <td>0</td>\n",
       "      <td>c7000c41002f19263d4adec66b911f1c3f5e7eeb1302a3...</td>\n",
       "      <td>2020-01</td>\n",
       "      <td>West Yorkshire Police</td>\n",
       "      <td>West Yorkshire Police</td>\n",
       "      <td>-1.570572</td>\n",
       "      <td>53.607792</td>\n",
       "      <td>On or near Park/Open Space</td>\n",
       "      <td>E01007418</td>\n",
       "      <td>Barnsley 016A</td>\n",
       "      <td>Other theft</td>\n",
       "      <td>Status update unavailable</td>\n",
       "      <td>NaN</td>\n",
       "    </tr>\n",
       "    <tr>\n",
       "      <th>1</th>\n",
       "      <td>1</td>\n",
       "      <td>b8bc1b6cf423a9431734982fffb11f803cf82140702cc7...</td>\n",
       "      <td>2020-01</td>\n",
       "      <td>West Yorkshire Police</td>\n",
       "      <td>West Yorkshire Police</td>\n",
       "      <td>-1.670108</td>\n",
       "      <td>53.553629</td>\n",
       "      <td>On or near Huddersfield Road</td>\n",
       "      <td>E01007426</td>\n",
       "      <td>Barnsley 027D</td>\n",
       "      <td>Robbery</td>\n",
       "      <td>Investigation complete; no suspect identified</td>\n",
       "      <td>NaN</td>\n",
       "    </tr>\n",
       "    <tr>\n",
       "      <th>2</th>\n",
       "      <td>2</td>\n",
       "      <td>8c69cefea36edafe5fa3f992ccc31d3cfd0c9af9a81429...</td>\n",
       "      <td>2020-01</td>\n",
       "      <td>West Yorkshire Police</td>\n",
       "      <td>West Yorkshire Police</td>\n",
       "      <td>-1.879031</td>\n",
       "      <td>53.943807</td>\n",
       "      <td>On or near Cross End Fold</td>\n",
       "      <td>E01010646</td>\n",
       "      <td>Bradford 001A</td>\n",
       "      <td>Bicycle theft</td>\n",
       "      <td>Investigation complete; no suspect identified</td>\n",
       "      <td>NaN</td>\n",
       "    </tr>\n",
       "    <tr>\n",
       "      <th>3</th>\n",
       "      <td>3</td>\n",
       "      <td>7236a8fb307214df61ca7a9b93bd309c0524f9bee58d89...</td>\n",
       "      <td>2020-01</td>\n",
       "      <td>West Yorkshire Police</td>\n",
       "      <td>West Yorkshire Police</td>\n",
       "      <td>-1.882746</td>\n",
       "      <td>53.933807</td>\n",
       "      <td>On or near Cocking Lane</td>\n",
       "      <td>E01010646</td>\n",
       "      <td>Bradford 001A</td>\n",
       "      <td>Burglary</td>\n",
       "      <td>Investigation complete; no suspect identified</td>\n",
       "      <td>NaN</td>\n",
       "    </tr>\n",
       "    <tr>\n",
       "      <th>4</th>\n",
       "      <td>4</td>\n",
       "      <td>92803cebdfde14ad870899c45c6bee398331f33a053bf1...</td>\n",
       "      <td>2020-01</td>\n",
       "      <td>West Yorkshire Police</td>\n",
       "      <td>West Yorkshire Police</td>\n",
       "      <td>-1.881467</td>\n",
       "      <td>53.944510</td>\n",
       "      <td>On or near Kilners Croft</td>\n",
       "      <td>E01010646</td>\n",
       "      <td>Bradford 001A</td>\n",
       "      <td>Criminal damage and arson</td>\n",
       "      <td>Investigation complete; no suspect identified</td>\n",
       "      <td>NaN</td>\n",
       "    </tr>\n",
       "  </tbody>\n",
       "</table>\n",
       "</div>"
      ],
      "text/plain": [
       "   Unnamed: 0                                           Crime ID    Month  \\\n",
       "0           0  c7000c41002f19263d4adec66b911f1c3f5e7eeb1302a3...  2020-01   \n",
       "1           1  b8bc1b6cf423a9431734982fffb11f803cf82140702cc7...  2020-01   \n",
       "2           2  8c69cefea36edafe5fa3f992ccc31d3cfd0c9af9a81429...  2020-01   \n",
       "3           3  7236a8fb307214df61ca7a9b93bd309c0524f9bee58d89...  2020-01   \n",
       "4           4  92803cebdfde14ad870899c45c6bee398331f33a053bf1...  2020-01   \n",
       "\n",
       "             Reported by           Falls within  Longitude   Latitude  \\\n",
       "0  West Yorkshire Police  West Yorkshire Police  -1.570572  53.607792   \n",
       "1  West Yorkshire Police  West Yorkshire Police  -1.670108  53.553629   \n",
       "2  West Yorkshire Police  West Yorkshire Police  -1.879031  53.943807   \n",
       "3  West Yorkshire Police  West Yorkshire Police  -1.882746  53.933807   \n",
       "4  West Yorkshire Police  West Yorkshire Police  -1.881467  53.944510   \n",
       "\n",
       "                       Location  LSOA code      LSOA name  \\\n",
       "0    On or near Park/Open Space  E01007418  Barnsley 016A   \n",
       "1  On or near Huddersfield Road  E01007426  Barnsley 027D   \n",
       "2     On or near Cross End Fold  E01010646  Bradford 001A   \n",
       "3       On or near Cocking Lane  E01010646  Bradford 001A   \n",
       "4      On or near Kilners Croft  E01010646  Bradford 001A   \n",
       "\n",
       "                  Crime type                          Last outcome category  \\\n",
       "0                Other theft                      Status update unavailable   \n",
       "1                    Robbery  Investigation complete; no suspect identified   \n",
       "2              Bicycle theft  Investigation complete; no suspect identified   \n",
       "3                   Burglary  Investigation complete; no suspect identified   \n",
       "4  Criminal damage and arson  Investigation complete; no suspect identified   \n",
       "\n",
       "   Context  \n",
       "0      NaN  \n",
       "1      NaN  \n",
       "2      NaN  \n",
       "3      NaN  \n",
       "4      NaN  "
      ]
     },
     "execution_count": 4,
     "metadata": {},
     "output_type": "execute_result"
    }
   ],
   "source": [
    "uk_police.head(5)"
   ]
  },
  {
   "cell_type": "code",
   "execution_count": 5,
   "id": "fa6a362d-e8ba-4bf2-a2df-45edf37d7124",
   "metadata": {},
   "outputs": [
    {
     "data": {
      "text/html": [
       "<div>\n",
       "<style scoped>\n",
       "    .dataframe tbody tr th:only-of-type {\n",
       "        vertical-align: middle;\n",
       "    }\n",
       "\n",
       "    .dataframe tbody tr th {\n",
       "        vertical-align: top;\n",
       "    }\n",
       "\n",
       "    .dataframe thead th {\n",
       "        text-align: right;\n",
       "    }\n",
       "</style>\n",
       "<table border=\"1\" class=\"dataframe\">\n",
       "  <thead>\n",
       "    <tr style=\"text-align: right;\">\n",
       "      <th></th>\n",
       "      <th>Unnamed: 0</th>\n",
       "      <th>Crime ID</th>\n",
       "      <th>Month</th>\n",
       "      <th>Reported by</th>\n",
       "      <th>Falls within</th>\n",
       "      <th>Longitude</th>\n",
       "      <th>Latitude</th>\n",
       "      <th>Location</th>\n",
       "      <th>LSOA code</th>\n",
       "      <th>LSOA name</th>\n",
       "      <th>Crime type</th>\n",
       "      <th>Last outcome category</th>\n",
       "      <th>Context</th>\n",
       "    </tr>\n",
       "  </thead>\n",
       "  <tbody>\n",
       "    <tr>\n",
       "      <th>count</th>\n",
       "      <td>1.899456e+07</td>\n",
       "      <td>14315206</td>\n",
       "      <td>18994562</td>\n",
       "      <td>18994562</td>\n",
       "      <td>18994562</td>\n",
       "      <td>1.861576e+07</td>\n",
       "      <td>1.861576e+07</td>\n",
       "      <td>18994562</td>\n",
       "      <td>18130470</td>\n",
       "      <td>18130470</td>\n",
       "      <td>18994562</td>\n",
       "      <td>14021832</td>\n",
       "      <td>0.0</td>\n",
       "    </tr>\n",
       "    <tr>\n",
       "      <th>unique</th>\n",
       "      <td>NaN</td>\n",
       "      <td>13889023</td>\n",
       "      <td>36</td>\n",
       "      <td>45</td>\n",
       "      <td>45</td>\n",
       "      <td>NaN</td>\n",
       "      <td>NaN</td>\n",
       "      <td>267595</td>\n",
       "      <td>34749</td>\n",
       "      <td>34749</td>\n",
       "      <td>14</td>\n",
       "      <td>27</td>\n",
       "      <td>NaN</td>\n",
       "    </tr>\n",
       "    <tr>\n",
       "      <th>top</th>\n",
       "      <td>NaN</td>\n",
       "      <td>490b595dc6eb4b0a3e1f8d7fa53d2be5460d146d8f133a...</td>\n",
       "      <td>2018-10</td>\n",
       "      <td>Metropolitan Police Service</td>\n",
       "      <td>Metropolitan Police Service</td>\n",
       "      <td>NaN</td>\n",
       "      <td>NaN</td>\n",
       "      <td>On or near Supermarket</td>\n",
       "      <td>E01033595</td>\n",
       "      <td>Westminster 013E</td>\n",
       "      <td>Violence and sexual offences</td>\n",
       "      <td>Investigation complete; no suspect identified</td>\n",
       "      <td>NaN</td>\n",
       "    </tr>\n",
       "    <tr>\n",
       "      <th>freq</th>\n",
       "      <td>NaN</td>\n",
       "      <td>69</td>\n",
       "      <td>582863</td>\n",
       "      <td>3371292</td>\n",
       "      <td>3371292</td>\n",
       "      <td>NaN</td>\n",
       "      <td>NaN</td>\n",
       "      <td>590160</td>\n",
       "      <td>22520</td>\n",
       "      <td>22520</td>\n",
       "      <td>5659834</td>\n",
       "      <td>5228532</td>\n",
       "      <td>NaN</td>\n",
       "    </tr>\n",
       "    <tr>\n",
       "      <th>mean</th>\n",
       "      <td>9.497280e+06</td>\n",
       "      <td>NaN</td>\n",
       "      <td>NaN</td>\n",
       "      <td>NaN</td>\n",
       "      <td>NaN</td>\n",
       "      <td>-1.344472e+00</td>\n",
       "      <td>5.243434e+01</td>\n",
       "      <td>NaN</td>\n",
       "      <td>NaN</td>\n",
       "      <td>NaN</td>\n",
       "      <td>NaN</td>\n",
       "      <td>NaN</td>\n",
       "      <td>NaN</td>\n",
       "    </tr>\n",
       "    <tr>\n",
       "      <th>std</th>\n",
       "      <td>5.483258e+06</td>\n",
       "      <td>NaN</td>\n",
       "      <td>NaN</td>\n",
       "      <td>NaN</td>\n",
       "      <td>NaN</td>\n",
       "      <td>1.490382e+00</td>\n",
       "      <td>1.192104e+00</td>\n",
       "      <td>NaN</td>\n",
       "      <td>NaN</td>\n",
       "      <td>NaN</td>\n",
       "      <td>NaN</td>\n",
       "      <td>NaN</td>\n",
       "      <td>NaN</td>\n",
       "    </tr>\n",
       "    <tr>\n",
       "      <th>min</th>\n",
       "      <td>0.000000e+00</td>\n",
       "      <td>NaN</td>\n",
       "      <td>NaN</td>\n",
       "      <td>NaN</td>\n",
       "      <td>NaN</td>\n",
       "      <td>-8.148313e+00</td>\n",
       "      <td>4.989215e+01</td>\n",
       "      <td>NaN</td>\n",
       "      <td>NaN</td>\n",
       "      <td>NaN</td>\n",
       "      <td>NaN</td>\n",
       "      <td>NaN</td>\n",
       "      <td>NaN</td>\n",
       "    </tr>\n",
       "    <tr>\n",
       "      <th>25%</th>\n",
       "      <td>4.748640e+06</td>\n",
       "      <td>NaN</td>\n",
       "      <td>NaN</td>\n",
       "      <td>NaN</td>\n",
       "      <td>NaN</td>\n",
       "      <td>-2.153157e+00</td>\n",
       "      <td>5.149627e+01</td>\n",
       "      <td>NaN</td>\n",
       "      <td>NaN</td>\n",
       "      <td>NaN</td>\n",
       "      <td>NaN</td>\n",
       "      <td>NaN</td>\n",
       "      <td>NaN</td>\n",
       "    </tr>\n",
       "    <tr>\n",
       "      <th>50%</th>\n",
       "      <td>9.497280e+06</td>\n",
       "      <td>NaN</td>\n",
       "      <td>NaN</td>\n",
       "      <td>NaN</td>\n",
       "      <td>NaN</td>\n",
       "      <td>-1.264998e+00</td>\n",
       "      <td>5.211650e+01</td>\n",
       "      <td>NaN</td>\n",
       "      <td>NaN</td>\n",
       "      <td>NaN</td>\n",
       "      <td>NaN</td>\n",
       "      <td>NaN</td>\n",
       "      <td>NaN</td>\n",
       "    </tr>\n",
       "    <tr>\n",
       "      <th>75%</th>\n",
       "      <td>1.424592e+07</td>\n",
       "      <td>NaN</td>\n",
       "      <td>NaN</td>\n",
       "      <td>NaN</td>\n",
       "      <td>NaN</td>\n",
       "      <td>-1.690290e-01</td>\n",
       "      <td>5.342297e+01</td>\n",
       "      <td>NaN</td>\n",
       "      <td>NaN</td>\n",
       "      <td>NaN</td>\n",
       "      <td>NaN</td>\n",
       "      <td>NaN</td>\n",
       "      <td>NaN</td>\n",
       "    </tr>\n",
       "    <tr>\n",
       "      <th>max</th>\n",
       "      <td>1.899456e+07</td>\n",
       "      <td>NaN</td>\n",
       "      <td>NaN</td>\n",
       "      <td>NaN</td>\n",
       "      <td>NaN</td>\n",
       "      <td>1.759519e+00</td>\n",
       "      <td>5.764292e+01</td>\n",
       "      <td>NaN</td>\n",
       "      <td>NaN</td>\n",
       "      <td>NaN</td>\n",
       "      <td>NaN</td>\n",
       "      <td>NaN</td>\n",
       "      <td>NaN</td>\n",
       "    </tr>\n",
       "  </tbody>\n",
       "</table>\n",
       "</div>"
      ],
      "text/plain": [
       "          Unnamed: 0                                           Crime ID  \\\n",
       "count   1.899456e+07                                           14315206   \n",
       "unique           NaN                                           13889023   \n",
       "top              NaN  490b595dc6eb4b0a3e1f8d7fa53d2be5460d146d8f133a...   \n",
       "freq             NaN                                                 69   \n",
       "mean    9.497280e+06                                                NaN   \n",
       "std     5.483258e+06                                                NaN   \n",
       "min     0.000000e+00                                                NaN   \n",
       "25%     4.748640e+06                                                NaN   \n",
       "50%     9.497280e+06                                                NaN   \n",
       "75%     1.424592e+07                                                NaN   \n",
       "max     1.899456e+07                                                NaN   \n",
       "\n",
       "           Month                  Reported by                 Falls within  \\\n",
       "count   18994562                     18994562                     18994562   \n",
       "unique        36                           45                           45   \n",
       "top      2018-10  Metropolitan Police Service  Metropolitan Police Service   \n",
       "freq      582863                      3371292                      3371292   \n",
       "mean         NaN                          NaN                          NaN   \n",
       "std          NaN                          NaN                          NaN   \n",
       "min          NaN                          NaN                          NaN   \n",
       "25%          NaN                          NaN                          NaN   \n",
       "50%          NaN                          NaN                          NaN   \n",
       "75%          NaN                          NaN                          NaN   \n",
       "max          NaN                          NaN                          NaN   \n",
       "\n",
       "           Longitude      Latitude                Location  LSOA code  \\\n",
       "count   1.861576e+07  1.861576e+07                18994562   18130470   \n",
       "unique           NaN           NaN                  267595      34749   \n",
       "top              NaN           NaN  On or near Supermarket  E01033595   \n",
       "freq             NaN           NaN                  590160      22520   \n",
       "mean   -1.344472e+00  5.243434e+01                     NaN        NaN   \n",
       "std     1.490382e+00  1.192104e+00                     NaN        NaN   \n",
       "min    -8.148313e+00  4.989215e+01                     NaN        NaN   \n",
       "25%    -2.153157e+00  5.149627e+01                     NaN        NaN   \n",
       "50%    -1.264998e+00  5.211650e+01                     NaN        NaN   \n",
       "75%    -1.690290e-01  5.342297e+01                     NaN        NaN   \n",
       "max     1.759519e+00  5.764292e+01                     NaN        NaN   \n",
       "\n",
       "               LSOA name                    Crime type  \\\n",
       "count           18130470                      18994562   \n",
       "unique             34749                            14   \n",
       "top     Westminster 013E  Violence and sexual offences   \n",
       "freq               22520                       5659834   \n",
       "mean                 NaN                           NaN   \n",
       "std                  NaN                           NaN   \n",
       "min                  NaN                           NaN   \n",
       "25%                  NaN                           NaN   \n",
       "50%                  NaN                           NaN   \n",
       "75%                  NaN                           NaN   \n",
       "max                  NaN                           NaN   \n",
       "\n",
       "                                Last outcome category  Context  \n",
       "count                                        14021832      0.0  \n",
       "unique                                             27      NaN  \n",
       "top     Investigation complete; no suspect identified      NaN  \n",
       "freq                                          5228532      NaN  \n",
       "mean                                              NaN      NaN  \n",
       "std                                               NaN      NaN  \n",
       "min                                               NaN      NaN  \n",
       "25%                                               NaN      NaN  \n",
       "50%                                               NaN      NaN  \n",
       "75%                                               NaN      NaN  \n",
       "max                                               NaN      NaN  "
      ]
     },
     "execution_count": 5,
     "metadata": {},
     "output_type": "execute_result"
    }
   ],
   "source": [
    "uk_police.describe(include='all')"
   ]
  },
  {
   "cell_type": "markdown",
   "id": "bd745751-0020-45bb-ae1f-1667083d4ae9",
   "metadata": {},
   "source": [
    "* Los casos mas reportados an sido para `Metropolitan Police Service`, con 3371292 (18% aprox.)\n",
    "* Donde se registra mas casos en cercano a los `supermercados` (14% de todos los casos)\n",
    "* los casos mas reportados son `Violence and Sexual Offences` con un total de 5659834 (30% aprox.) de todos los casos\n",
    "* Vemos que la mayoria de los casos terminan con un resultado: `Investigation complete; no suspect identified` (28% aprox.)"
   ]
  },
  {
   "cell_type": "code",
   "execution_count": 9,
   "id": "b26ed4dd",
   "metadata": {},
   "outputs": [
    {
     "data": {
      "text/plain": [
       "Unnamed: 0                      0\n",
       "Crime ID                  4679356\n",
       "Month                           0\n",
       "Reported by                     0\n",
       "Falls within                    0\n",
       "Longitude                  378800\n",
       "Latitude                   378800\n",
       "Location                        0\n",
       "LSOA code                  864092\n",
       "LSOA name                  864092\n",
       "Crime type                      0\n",
       "Last outcome category     4972730\n",
       "Context                  18994562\n",
       "dtype: int64"
      ]
     },
     "execution_count": 9,
     "metadata": {},
     "output_type": "execute_result"
    }
   ],
   "source": [
    "uk_police.isnull().sum()"
   ]
  },
  {
   "cell_type": "markdown",
   "id": "f9dcd12d",
   "metadata": {},
   "source": [
    "La variable Context se puede ver que esta vacio, se tiene que eliminar porque no aporta nada al analisis "
   ]
  },
  {
   "cell_type": "code",
   "execution_count": 5,
   "id": "1bb2929c",
   "metadata": {},
   "outputs": [
    {
     "data": {
      "text/plain": [
       "267595"
      ]
     },
     "execution_count": 5,
     "metadata": {},
     "output_type": "execute_result"
    }
   ],
   "source": [
    "len(pd.unique(uk_police['Location']))"
   ]
  },
  {
   "cell_type": "markdown",
   "id": "f611b3e7",
   "metadata": {},
   "source": [
    "Hay 267595 lugares donde se reportaron delitos ocurrido en toda el territorios en UK (periodo 2018 a 2020)"
   ]
  },
  {
   "cell_type": "code",
   "execution_count": 11,
   "id": "a4a5b104",
   "metadata": {},
   "outputs": [
    {
     "data": {
      "image/png": "[encoded data removed]",
      "text/plain": [
       "<Figure size 720x360 with 1 Axes>"
      ]
     },
     "metadata": {
      "needs_background": "light"
     },
     "output_type": "display_data"
    }
   ],
   "source": [
    "plt.figure(figsize=(10,5))\n",
    "ax = sns.countplot(data = uk_police, y = 'Location',order=uk_police['Location'].value_counts().iloc[:10].index)\n",
    "\n",
    "total = len(uk_police['Location'])\n",
    "for p in ax.patches:\n",
    "        percentage = '{:.2f}%'.format(100 * p.get_width()/total)\n",
    "        x = p.get_x() + p.get_width() + 0.02\n",
    "        y = p.get_y() + p.get_height()/2\n",
    "        ax.annotate(percentage, (x, y))\n",
    "plt.show()"
   ]
  },
  {
   "cell_type": "markdown",
   "id": "8acd2be5",
   "metadata": {},
   "source": []
  },
  {
   "cell_type": "markdown",
   "id": "36d85173",
   "metadata": {},
   "source": [
    "Los 2 lugares con mayor incidencia en cometer crimenes es cercano a Supermarket y Area Parking, son lugares muy concurridos de gente, la tercera locaciones es no tener idea de donde se cometieron tales delitos, estos 3 lugares representan  8.07% de todos los crimenes"
   ]
  },
  {
   "cell_type": "code",
   "execution_count": 7,
   "id": "8e88ddc9-9075-4f60-bd51-ab781d34cede",
   "metadata": {},
   "outputs": [],
   "source": [
    "uk_police.drop(columns=['Unnamed: 0','Context'],inplace=True)"
   ]
  },
  {
   "cell_type": "code",
   "execution_count": 8,
   "id": "1cc8e911",
   "metadata": {},
   "outputs": [],
   "source": [
    "month = uk_police.groupby(['Month']).agg(Count = ('Crime ID','count'))"
   ]
  },
  {
   "cell_type": "code",
   "execution_count": 9,
   "id": "589f98a3",
   "metadata": {},
   "outputs": [
    {
     "data": {
      "image/png": "[encoded data removed]",
      "text/plain": [
       "<Figure size 720x360 with 1 Axes>"
      ]
     },
     "metadata": {
      "needs_background": "light"
     },
     "output_type": "display_data"
    }
   ],
   "source": [
    "month.plot(figsize = (10,5))\n",
    "plt.title('Linea de tendencia de crimenes reportado dado el tiempo')\n",
    "plt.xlabel('Date')\n",
    "plt.ylabel('Count')\n",
    "plt.legend(['Reportes'])\n",
    "plt.show()"
   ]
  },
  {
   "cell_type": "markdown",
   "id": "23b25954",
   "metadata": {},
   "source": [
    "La incidencia de crimenes reportadas a traves del tiempo en el periodo 2018 a 2021, tienes muchos picos a traves del periodo, siendo el pico mas alto reportado a inicios del año 2019, a partir de esa fecha el reporte de criminalidad a comenzado a bajar, Esto puede tener que ver mas que todo por la pandemia, en la fecha mediados del año 2020 tiene una bajada muy pronunciada y a la vez una subida muy alta a la vez llevando a los niveles que los tiempos anteriores.\n",
    "Los picos mas bajos son muy pronunciados y ambos se presentan en el año 2020 (mediados y finales), se debe analizar porque de estos picos"
   ]
  },
  {
   "cell_type": "markdown",
   "id": "f8c21591",
   "metadata": {},
   "source": [
    "---\n",
    "## __Analizaremos la localizacion del `supermercado` como es lo mas habitual en el periodo 2018 a 2021__"
   ]
  },
  {
   "cell_type": "code",
   "execution_count": 10,
   "id": "beb7f092-b574-4f7b-8d92-c2af33a14443",
   "metadata": {},
   "outputs": [],
   "source": [
    "loc = uk_police[uk_police['Location']=='On or near Supermarket'].reset_index()"
   ]
  },
  {
   "cell_type": "code",
   "execution_count": 11,
   "id": "7afe133b-4c31-4431-b6e8-e7ebcd792252",
   "metadata": {},
   "outputs": [
    {
     "data": {
      "text/html": [
       "<div>\n",
       "<style scoped>\n",
       "    .dataframe tbody tr th:only-of-type {\n",
       "        vertical-align: middle;\n",
       "    }\n",
       "\n",
       "    .dataframe tbody tr th {\n",
       "        vertical-align: top;\n",
       "    }\n",
       "\n",
       "    .dataframe thead th {\n",
       "        text-align: right;\n",
       "    }\n",
       "</style>\n",
       "<table border=\"1\" class=\"dataframe\">\n",
       "  <thead>\n",
       "    <tr style=\"text-align: right;\">\n",
       "      <th></th>\n",
       "      <th>index</th>\n",
       "      <th>Crime ID</th>\n",
       "      <th>Month</th>\n",
       "      <th>Reported by</th>\n",
       "      <th>Falls within</th>\n",
       "      <th>Longitude</th>\n",
       "      <th>Latitude</th>\n",
       "      <th>Location</th>\n",
       "      <th>LSOA code</th>\n",
       "      <th>LSOA name</th>\n",
       "      <th>Crime type</th>\n",
       "      <th>Last outcome category</th>\n",
       "    </tr>\n",
       "  </thead>\n",
       "  <tbody>\n",
       "    <tr>\n",
       "      <th>0</th>\n",
       "      <td>45</td>\n",
       "      <td>959f5c46c542eb23b3b2a0de4d794897b26d02ae8206dd...</td>\n",
       "      <td>2020-01</td>\n",
       "      <td>West Yorkshire Police</td>\n",
       "      <td>West Yorkshire Police</td>\n",
       "      <td>-1.82306</td>\n",
       "      <td>53.925465</td>\n",
       "      <td>On or near Supermarket</td>\n",
       "      <td>E01010695</td>\n",
       "      <td>Bradford 002D</td>\n",
       "      <td>Other theft</td>\n",
       "      <td>Investigation complete; no suspect identified</td>\n",
       "    </tr>\n",
       "    <tr>\n",
       "      <th>1</th>\n",
       "      <td>49</td>\n",
       "      <td>aff8153d104a291442ea2ef71fffe330d9555b31d6e88a...</td>\n",
       "      <td>2020-01</td>\n",
       "      <td>West Yorkshire Police</td>\n",
       "      <td>West Yorkshire Police</td>\n",
       "      <td>-1.82306</td>\n",
       "      <td>53.925465</td>\n",
       "      <td>On or near Supermarket</td>\n",
       "      <td>E01010695</td>\n",
       "      <td>Bradford 002D</td>\n",
       "      <td>Shoplifting</td>\n",
       "      <td>Local resolution</td>\n",
       "    </tr>\n",
       "    <tr>\n",
       "      <th>2</th>\n",
       "      <td>51</td>\n",
       "      <td>f140cfe79bcf1e8ce855511140f3a97a3cb536a55f3f9c...</td>\n",
       "      <td>2020-01</td>\n",
       "      <td>West Yorkshire Police</td>\n",
       "      <td>West Yorkshire Police</td>\n",
       "      <td>-1.82306</td>\n",
       "      <td>53.925465</td>\n",
       "      <td>On or near Supermarket</td>\n",
       "      <td>E01010695</td>\n",
       "      <td>Bradford 002D</td>\n",
       "      <td>Shoplifting</td>\n",
       "      <td>Unable to prosecute suspect</td>\n",
       "    </tr>\n",
       "    <tr>\n",
       "      <th>3</th>\n",
       "      <td>261</td>\n",
       "      <td>NaN</td>\n",
       "      <td>2020-01</td>\n",
       "      <td>West Yorkshire Police</td>\n",
       "      <td>West Yorkshire Police</td>\n",
       "      <td>-1.90431</td>\n",
       "      <td>53.875127</td>\n",
       "      <td>On or near Supermarket</td>\n",
       "      <td>E01010708</td>\n",
       "      <td>Bradford 006C</td>\n",
       "      <td>Anti-social behaviour</td>\n",
       "      <td>NaN</td>\n",
       "    </tr>\n",
       "    <tr>\n",
       "      <th>4</th>\n",
       "      <td>263</td>\n",
       "      <td>7e22e08aa3dbaa0814e093962456a8b6ec9ccc486f3031...</td>\n",
       "      <td>2020-01</td>\n",
       "      <td>West Yorkshire Police</td>\n",
       "      <td>West Yorkshire Police</td>\n",
       "      <td>-1.90431</td>\n",
       "      <td>53.875127</td>\n",
       "      <td>On or near Supermarket</td>\n",
       "      <td>E01010708</td>\n",
       "      <td>Bradford 006C</td>\n",
       "      <td>Drugs</td>\n",
       "      <td>Local resolution</td>\n",
       "    </tr>\n",
       "  </tbody>\n",
       "</table>\n",
       "</div>"
      ],
      "text/plain": [
       "   index                                           Crime ID    Month  \\\n",
       "0     45  959f5c46c542eb23b3b2a0de4d794897b26d02ae8206dd...  2020-01   \n",
       "1     49  aff8153d104a291442ea2ef71fffe330d9555b31d6e88a...  2020-01   \n",
       "2     51  f140cfe79bcf1e8ce855511140f3a97a3cb536a55f3f9c...  2020-01   \n",
       "3    261                                                NaN  2020-01   \n",
       "4    263  7e22e08aa3dbaa0814e093962456a8b6ec9ccc486f3031...  2020-01   \n",
       "\n",
       "             Reported by           Falls within  Longitude   Latitude  \\\n",
       "0  West Yorkshire Police  West Yorkshire Police   -1.82306  53.925465   \n",
       "1  West Yorkshire Police  West Yorkshire Police   -1.82306  53.925465   \n",
       "2  West Yorkshire Police  West Yorkshire Police   -1.82306  53.925465   \n",
       "3  West Yorkshire Police  West Yorkshire Police   -1.90431  53.875127   \n",
       "4  West Yorkshire Police  West Yorkshire Police   -1.90431  53.875127   \n",
       "\n",
       "                 Location  LSOA code      LSOA name             Crime type  \\\n",
       "0  On or near Supermarket  E01010695  Bradford 002D            Other theft   \n",
       "1  On or near Supermarket  E01010695  Bradford 002D            Shoplifting   \n",
       "2  On or near Supermarket  E01010695  Bradford 002D            Shoplifting   \n",
       "3  On or near Supermarket  E01010708  Bradford 006C  Anti-social behaviour   \n",
       "4  On or near Supermarket  E01010708  Bradford 006C                  Drugs   \n",
       "\n",
       "                           Last outcome category  \n",
       "0  Investigation complete; no suspect identified  \n",
       "1                               Local resolution  \n",
       "2                    Unable to prosecute suspect  \n",
       "3                                            NaN  \n",
       "4                               Local resolution  "
      ]
     },
     "execution_count": 11,
     "metadata": {},
     "output_type": "execute_result"
    }
   ],
   "source": [
    "loc.head(5)"
   ]
  },
  {
   "cell_type": "code",
   "execution_count": 64,
   "id": "5aaae29e",
   "metadata": {},
   "outputs": [
    {
     "data": {
      "image/png": "[encoded data removed]",
      "text/plain": [
       "<Figure size 720x360 with 1 Axes>"
      ]
     },
     "metadata": {
      "needs_background": "light"
     },
     "output_type": "display_data"
    }
   ],
   "source": [
    "month_loc = loc.groupby(['Month']).agg(Count = ('Crime ID','count'))\n",
    "month_loc.plot(figsize = (10,5))\n",
    "plt.title('tendencia de crimenes reportado dado el tiempo en Supermarket')\n",
    "plt.xlabel('Date')\n",
    "plt.ylabel('Count')\n",
    "plt.legend(['Reportes'])\n",
    "plt.show()"
   ]
  },
  {
   "cell_type": "code",
   "execution_count": 12,
   "id": "d43902eb-111e-484f-8853-86931bfc2822",
   "metadata": {},
   "outputs": [
    {
     "data": {
      "image/png": "[encoded data removed]",
      "text/plain": [
       "<Figure size 720x360 with 1 Axes>"
      ]
     },
     "metadata": {
      "needs_background": "light"
     },
     "output_type": "display_data"
    }
   ],
   "source": [
    "plt.figure(figsize=(10,5))\n",
    "sns.countplot(data = loc, y = 'Crime type',order=loc['Crime type'].value_counts().index)\n",
    "sns.title('Crime Type 2018 to 2020 UK')\n",
    "plt.show()"
   ]
  },
  {
   "cell_type": "code",
   "execution_count": 13,
   "id": "26e54874",
   "metadata": {},
   "outputs": [
    {
     "data": {
      "text/plain": [
       "Shoplifting                     0.305548\n",
       "Anti-social behaviour           0.178858\n",
       "Violence and sexual offences    0.163047\n",
       "Other theft                     0.086895\n",
       "Public order                    0.082068\n",
       "Name: Crime type, dtype: float64"
      ]
     },
     "execution_count": 13,
     "metadata": {},
     "output_type": "execute_result"
    }
   ],
   "source": [
    "loc['Crime type'].value_counts(normalize=True).head(5)"
   ]
  },
  {
   "cell_type": "markdown",
   "id": "bf56a3cb",
   "metadata": {},
   "source": [
    "En la mayoria de los casos lo que se reporta en los supermercados son robos como `Shoplifting`, `Anti-social behaviour` y `Violence and sexual offences` que entre estos tres representa un total de 64.75% de casos totales, para saber como acaba estas investigacion que ocurren en los supermercados hay que analisar: __Last outcome category__"
   ]
  },
  {
   "cell_type": "code",
   "execution_count": 14,
   "id": "a3e7d5f4",
   "metadata": {},
   "outputs": [
    {
     "data": {
      "text/plain": [
       "Investigation complete; no suspect identified          0.459572\n",
       "Unable to prosecute suspect                            0.193706\n",
       "Status update unavailable                              0.127679\n",
       "Court result unavailable                               0.083416\n",
       "Under investigation                                    0.040796\n",
       "Local resolution                                       0.027181\n",
       "Awaiting court outcome                                 0.017119\n",
       "Further investigation is not in the public interest    0.010613\n",
       "Name: Last outcome category, dtype: float64"
      ]
     },
     "execution_count": 14,
     "metadata": {},
     "output_type": "execute_result"
    }
   ],
   "source": [
    "loc['Last outcome category'].value_counts(normalize=True).head(8)"
   ]
  },
  {
   "cell_type": "markdown",
   "id": "b9eb03ed",
   "metadata": {},
   "source": [
    "En los mayorias de los casos no se logra tener una resolucion que pueda saber quien hizo el delito (46%), mientras que en los otros casos mas frecuentes no se puede saber si como va la investigacion de los casos reportados"
   ]
  },
  {
   "cell_type": "markdown",
   "id": "fbe48a61",
   "metadata": {},
   "source": [
    "### __Veremos los 3 tipos de conclusiones__"
   ]
  },
  {
   "cell_type": "code",
   "execution_count": 15,
   "id": "551d3501",
   "metadata": {},
   "outputs": [
    {
     "name": "stderr",
     "output_type": "stream",
     "text": [
      "C:\\Users\\isusk\\anaconda3\\lib\\site-packages\\pandas\\core\\frame.py:4308: SettingWithCopyWarning: \n",
      "A value is trying to be set on a copy of a slice from a DataFrame\n",
      "\n",
      "See the caveats in the documentation: https://pandas.pydata.org/pandas-docs/stable/user_guide/indexing.html#returning-a-view-versus-a-copy\n",
      "  return super().drop(\n"
     ]
    },
    {
     "data": {
      "text/plain": [
       "Investigation complete; no suspect identified    222711\n",
       "Unable to prosecute suspect                       93871\n",
       "Status update unavailable                         61874\n",
       "Name: Last outcome category, dtype: int64"
      ]
     },
     "execution_count": 15,
     "metadata": {},
     "output_type": "execute_result"
    }
   ],
   "source": [
    "inv = loc[loc[\"Last outcome category\"].isin(['Investigation complete; no suspect identified',\n",
    "                                            'Unable to prosecute suspect',\n",
    "                                             'Status update unavailable'])]\n",
    "inv.drop(columns=['index'],inplace=True)\n",
    "inv['Last outcome category'].value_counts()"
   ]
  },
  {
   "cell_type": "code",
   "execution_count": 16,
   "id": "dd40fb6b",
   "metadata": {},
   "outputs": [
    {
     "data": {
      "text/plain": [
       "Last outcome category                          Crime type                  \n",
       "Investigation complete; no suspect identified  Bicycle theft                    7943\n",
       "                                               Burglary                         9611\n",
       "                                               Criminal damage and arson       14216\n",
       "                                               Drugs                             346\n",
       "                                               Other crime                      1638\n",
       "                                               Other theft                     33023\n",
       "                                               Possession of weapons             514\n",
       "                                               Public order                    17478\n",
       "                                               Robbery                          4179\n",
       "                                               Shoplifting                     87529\n",
       "                                               Theft from the person            8519\n",
       "                                               Vehicle crime                   12011\n",
       "                                               Violence and sexual offences    25704\n",
       "Status update unavailable                      Bicycle theft                    1522\n",
       "                                               Burglary                         2245\n",
       "                                               Criminal damage and arson        2725\n",
       "                                               Drugs                             872\n",
       "                                               Other crime                       693\n",
       "                                               Other theft                      9834\n",
       "                                               Possession of weapons             378\n",
       "                                               Public order                     5990\n",
       "                                               Robbery                          1918\n",
       "                                               Shoplifting                     16436\n",
       "                                               Theft from the person            3760\n",
       "                                               Vehicle crime                    3230\n",
       "                                               Violence and sexual offences    12271\n",
       "Unable to prosecute suspect                    Bicycle theft                     469\n",
       "                                               Burglary                         1294\n",
       "                                               Criminal damage and arson        3766\n",
       "                                               Drugs                             630\n",
       "                                               Other crime                      1368\n",
       "                                               Other theft                      4444\n",
       "                                               Possession of weapons             720\n",
       "                                               Public order                    15678\n",
       "                                               Robbery                          1142\n",
       "                                               Shoplifting                     24550\n",
       "                                               Theft from the person             592\n",
       "                                               Vehicle crime                     763\n",
       "                                               Violence and sexual offences    38455\n",
       "Name: Crime ID, dtype: int64"
      ]
     },
     "execution_count": 16,
     "metadata": {},
     "output_type": "execute_result"
    }
   ],
   "source": [
    "inv.groupby(['Last outcome category','Crime type'])['Crime ID'].count()"
   ]
  },
  {
   "cell_type": "code",
   "execution_count": 66,
   "id": "308cc1c2",
   "metadata": {},
   "outputs": [
    {
     "data": {
      "image/png": "[encoded data removed]",
      "text/plain": [
       "<Figure size 720x360 with 1 Axes>"
      ]
     },
     "metadata": {
      "needs_background": "light"
     },
     "output_type": "display_data"
    },
    {
     "data": {
      "image/png": "[encoded data removed]",
      "text/plain": [
       "<Figure size 720x360 with 1 Axes>"
      ]
     },
     "metadata": {
      "needs_background": "light"
     },
     "output_type": "display_data"
    },
    {
     "data": {
      "image/png": "[encoded data removed]",
      "text/plain": [
       "<Figure size 720x360 with 1 Axes>"
      ]
     },
     "metadata": {
      "needs_background": "light"
     },
     "output_type": "display_data"
    }
   ],
   "source": [
    "for l in inv['Last outcome category'].unique():\n",
    "    plt.figure(figsize = (10,5))\n",
    "    sns.countplot(y = 'Crime type',order=inv['Crime type'].value_counts(ascending=False).index,data=inv[inv['Last outcome category'] == l]).set_title('Status: {}'.format(l))\n",
    "    plt.show()\n"
   ]
  },
  {
   "cell_type": "markdown",
   "id": "bf7ac044",
   "metadata": {},
   "source": [
    "* En la conclusion de la investigacion `Investigation complete; no suspect identified` la mayoria de los casos son robos menores como `Shoplifting` con amplia mayoria\n",
    "* En `Status update unavailable ` la mayoria son: `Shoplifting` y `Violence and sexual offences`\n",
    "* En `Unable to prosecute suspect` tiene la mayoria de los casos en `Violence and sexual offences` lo cual muestra un gran problema para resolver este problema"
   ]
  },
  {
   "cell_type": "code",
   "execution_count": 17,
   "id": "d81c0e83-d86e-4573-8822-826f515baff6",
   "metadata": {},
   "outputs": [
    {
     "data": {
      "text/plain": [
       "Metropolitan Police Service    0.215586\n",
       "Hampshire Constabulary         0.048584\n",
       "Thames Valley Police           0.043746\n",
       "West Yorkshire Police          0.042206\n",
       "West Midlands Police           0.038253\n",
       "Name: Reported by, dtype: float64"
      ]
     },
     "execution_count": 17,
     "metadata": {},
     "output_type": "execute_result"
    }
   ],
   "source": [
    "inv['Reported by'].value_counts(normalize=True).head(5)"
   ]
  },
  {
   "cell_type": "markdown",
   "id": "6de5f2c9",
   "metadata": {},
   "source": [
    "Los casos reportados en los supermercados en su mayoria la investigacion lo hacen `Metropolitan Police Service` "
   ]
  },
  {
   "cell_type": "markdown",
   "id": "32224d49",
   "metadata": {},
   "source": [
    "---\n",
    "## __Ahora analizaremos `Metropolitan Police Service`__ "
   ]
  },
  {
   "cell_type": "code",
   "execution_count": 18,
   "id": "dbabac2a",
   "metadata": {},
   "outputs": [
    {
     "data": {
      "text/html": [
       "<div>\n",
       "<style scoped>\n",
       "    .dataframe tbody tr th:only-of-type {\n",
       "        vertical-align: middle;\n",
       "    }\n",
       "\n",
       "    .dataframe tbody tr th {\n",
       "        vertical-align: top;\n",
       "    }\n",
       "\n",
       "    .dataframe thead th {\n",
       "        text-align: right;\n",
       "    }\n",
       "</style>\n",
       "<table border=\"1\" class=\"dataframe\">\n",
       "  <thead>\n",
       "    <tr style=\"text-align: right;\">\n",
       "      <th></th>\n",
       "      <th>Crime ID</th>\n",
       "      <th>Month</th>\n",
       "      <th>Reported by</th>\n",
       "      <th>Falls within</th>\n",
       "      <th>Longitude</th>\n",
       "      <th>Latitude</th>\n",
       "      <th>Location</th>\n",
       "      <th>LSOA code</th>\n",
       "      <th>LSOA name</th>\n",
       "      <th>Crime type</th>\n",
       "      <th>Last outcome category</th>\n",
       "    </tr>\n",
       "  </thead>\n",
       "  <tbody>\n",
       "    <tr>\n",
       "      <th>0</th>\n",
       "      <td>24c2b43c34c7cd6ef847d69fbb042c9c730b1eebe95c52...</td>\n",
       "      <td>2020-01</td>\n",
       "      <td>Metropolitan Police Service</td>\n",
       "      <td>Metropolitan Police Service</td>\n",
       "      <td>-0.539301</td>\n",
       "      <td>50.817200</td>\n",
       "      <td>On or near Highdown Drive</td>\n",
       "      <td>E01031469</td>\n",
       "      <td>Arun 009F</td>\n",
       "      <td>Other theft</td>\n",
       "      <td>Status update unavailable</td>\n",
       "    </tr>\n",
       "    <tr>\n",
       "      <th>1</th>\n",
       "      <td>NaN</td>\n",
       "      <td>2020-01</td>\n",
       "      <td>Metropolitan Police Service</td>\n",
       "      <td>Metropolitan Police Service</td>\n",
       "      <td>0.137065</td>\n",
       "      <td>51.583672</td>\n",
       "      <td>On or near Police Station</td>\n",
       "      <td>E01000027</td>\n",
       "      <td>Barking and Dagenham 001A</td>\n",
       "      <td>Anti-social behaviour</td>\n",
       "      <td>NaN</td>\n",
       "    </tr>\n",
       "    <tr>\n",
       "      <th>2</th>\n",
       "      <td>NaN</td>\n",
       "      <td>2020-01</td>\n",
       "      <td>Metropolitan Police Service</td>\n",
       "      <td>Metropolitan Police Service</td>\n",
       "      <td>0.137065</td>\n",
       "      <td>51.583672</td>\n",
       "      <td>On or near Police Station</td>\n",
       "      <td>E01000027</td>\n",
       "      <td>Barking and Dagenham 001A</td>\n",
       "      <td>Anti-social behaviour</td>\n",
       "      <td>NaN</td>\n",
       "    </tr>\n",
       "    <tr>\n",
       "      <th>3</th>\n",
       "      <td>NaN</td>\n",
       "      <td>2020-01</td>\n",
       "      <td>Metropolitan Police Service</td>\n",
       "      <td>Metropolitan Police Service</td>\n",
       "      <td>0.137065</td>\n",
       "      <td>51.583672</td>\n",
       "      <td>On or near Police Station</td>\n",
       "      <td>E01000027</td>\n",
       "      <td>Barking and Dagenham 001A</td>\n",
       "      <td>Anti-social behaviour</td>\n",
       "      <td>NaN</td>\n",
       "    </tr>\n",
       "    <tr>\n",
       "      <th>4</th>\n",
       "      <td>NaN</td>\n",
       "      <td>2020-01</td>\n",
       "      <td>Metropolitan Police Service</td>\n",
       "      <td>Metropolitan Police Service</td>\n",
       "      <td>0.141143</td>\n",
       "      <td>51.590873</td>\n",
       "      <td>On or near Furze Farm Close</td>\n",
       "      <td>E01000027</td>\n",
       "      <td>Barking and Dagenham 001A</td>\n",
       "      <td>Anti-social behaviour</td>\n",
       "      <td>NaN</td>\n",
       "    </tr>\n",
       "  </tbody>\n",
       "</table>\n",
       "</div>"
      ],
      "text/plain": [
       "                                            Crime ID    Month  \\\n",
       "0  24c2b43c34c7cd6ef847d69fbb042c9c730b1eebe95c52...  2020-01   \n",
       "1                                                NaN  2020-01   \n",
       "2                                                NaN  2020-01   \n",
       "3                                                NaN  2020-01   \n",
       "4                                                NaN  2020-01   \n",
       "\n",
       "                   Reported by                 Falls within  Longitude  \\\n",
       "0  Metropolitan Police Service  Metropolitan Police Service  -0.539301   \n",
       "1  Metropolitan Police Service  Metropolitan Police Service   0.137065   \n",
       "2  Metropolitan Police Service  Metropolitan Police Service   0.137065   \n",
       "3  Metropolitan Police Service  Metropolitan Police Service   0.137065   \n",
       "4  Metropolitan Police Service  Metropolitan Police Service   0.141143   \n",
       "\n",
       "    Latitude                     Location  LSOA code  \\\n",
       "0  50.817200    On or near Highdown Drive  E01031469   \n",
       "1  51.583672    On or near Police Station  E01000027   \n",
       "2  51.583672    On or near Police Station  E01000027   \n",
       "3  51.583672    On or near Police Station  E01000027   \n",
       "4  51.590873  On or near Furze Farm Close  E01000027   \n",
       "\n",
       "                   LSOA name             Crime type      Last outcome category  \n",
       "0                  Arun 009F            Other theft  Status update unavailable  \n",
       "1  Barking and Dagenham 001A  Anti-social behaviour                        NaN  \n",
       "2  Barking and Dagenham 001A  Anti-social behaviour                        NaN  \n",
       "3  Barking and Dagenham 001A  Anti-social behaviour                        NaN  \n",
       "4  Barking and Dagenham 001A  Anti-social behaviour                        NaN  "
      ]
     },
     "execution_count": 18,
     "metadata": {},
     "output_type": "execute_result"
    }
   ],
   "source": [
    "report = uk_police[uk_police['Reported by']=='Metropolitan Police Service'].reset_index()\n",
    "report.drop(columns=['index'],inplace=True)\n",
    "report.head(5)"
   ]
  },
  {
   "cell_type": "code",
   "execution_count": 19,
   "id": "16b5f6b3",
   "metadata": {},
   "outputs": [
    {
     "data": {
      "text/plain": [
       "Anti-social behaviour           0.283963\n",
       "Violence and sexual offences    0.205969\n",
       "Vehicle crime                   0.097997\n",
       "Other theft                     0.088662\n",
       "Burglary                        0.059739\n",
       "Public order                    0.047328\n",
       "Criminal damage and arson       0.046851\n",
       "Drugs                           0.040438\n",
       "Theft from the person           0.035711\n",
       "Shoplifting                     0.033462\n",
       "Robbery                         0.026996\n",
       "Bicycle theft                   0.018730\n",
       "Other crime                     0.009022\n",
       "Possession of weapons           0.005132\n",
       "Name: Crime type, dtype: float64"
      ]
     },
     "execution_count": 19,
     "metadata": {},
     "output_type": "execute_result"
    }
   ],
   "source": [
    "report['Crime type'].value_counts(normalize=True)"
   ]
  },
  {
   "cell_type": "markdown",
   "id": "8b4a316f",
   "metadata": {},
   "source": [
    "Los crimenes que mayormente se reporta en `Metropolitan Police Service`: Anti-social behaviour, Violence and sexual offences que representa un total 49% de todos los crimenes que reportan"
   ]
  },
  {
   "cell_type": "code",
   "execution_count": 31,
   "id": "f36ed2ed",
   "metadata": {},
   "outputs": [
    {
     "data": {
      "text/plain": [
       "<AxesSubplot:xlabel='count', ylabel='Crime type'>"
      ]
     },
     "execution_count": 31,
     "metadata": {},
     "output_type": "execute_result"
    },
    {
     "data": {
      "image/png": "[encoded data removed]",
      "text/plain": [
       "<Figure size 432x288 with 1 Axes>"
      ]
     },
     "metadata": {
      "needs_background": "light"
     },
     "output_type": "display_data"
    }
   ],
   "source": [
    "sns.countplot(data = report, y = 'Crime type',order=report['Crime type'].value_counts().index)"
   ]
  },
  {
   "cell_type": "markdown",
   "id": "c2c129c8",
   "metadata": {},
   "source": [
    "esto nos puede indicar que __Metropolitan Police Service__ reportan casos de disturbio menores como principales delito `Anti-social behaviour` y otros casos mas complejos como es `Violence and sexual offences`"
   ]
  },
  {
   "cell_type": "code",
   "execution_count": 63,
   "id": "271ef06d",
   "metadata": {},
   "outputs": [
    {
     "data": {
      "image/png": "[encoded data removed]",
      "text/plain": [
       "<Figure size 720x360 with 1 Axes>"
      ]
     },
     "metadata": {
      "needs_background": "light"
     },
     "output_type": "display_data"
    }
   ],
   "source": [
    "month_report = report.groupby(['Month']).agg(Count = ('Crime ID','count'))\n",
    "month_report.plot(figsize = (10,5))\n",
    "plt.title('tendencia de crimenes reportado dado el tiempo')\n",
    "plt.xlabel('Date')\n",
    "plt.ylabel('Count')\n",
    "plt.legend(['Reportes'])\n",
    "plt.show()"
   ]
  },
  {
   "cell_type": "markdown",
   "id": "88d5b72d",
   "metadata": {},
   "source": [
    "__Metropolitan Police Service__ Tiene un comportamiento similar a la poblacion general de todos los casos en UK, esto tambien se debe a que es el servicio central del pais por lo cual le afecta mas directamente los casos a este Police Service"
   ]
  },
  {
   "cell_type": "markdown",
   "id": "194c7943",
   "metadata": {},
   "source": [
    "---\n",
    "## __Vamos a analizar los crimenes mas comunes que ocurre en Uk: `Violence and Sexual Offences`__"
   ]
  },
  {
   "cell_type": "code",
   "execution_count": 74,
   "id": "4c86dc7b",
   "metadata": {},
   "outputs": [
    {
     "data": {
      "text/html": [
       "<div>\n",
       "<style scoped>\n",
       "    .dataframe tbody tr th:only-of-type {\n",
       "        vertical-align: middle;\n",
       "    }\n",
       "\n",
       "    .dataframe tbody tr th {\n",
       "        vertical-align: top;\n",
       "    }\n",
       "\n",
       "    .dataframe thead th {\n",
       "        text-align: right;\n",
       "    }\n",
       "</style>\n",
       "<table border=\"1\" class=\"dataframe\">\n",
       "  <thead>\n",
       "    <tr style=\"text-align: right;\">\n",
       "      <th></th>\n",
       "      <th>Crime ID</th>\n",
       "      <th>Month</th>\n",
       "      <th>Reported by</th>\n",
       "      <th>Falls within</th>\n",
       "      <th>Longitude</th>\n",
       "      <th>Latitude</th>\n",
       "      <th>Location</th>\n",
       "      <th>LSOA code</th>\n",
       "      <th>LSOA name</th>\n",
       "      <th>Crime type</th>\n",
       "      <th>Last outcome category</th>\n",
       "    </tr>\n",
       "  </thead>\n",
       "  <tbody>\n",
       "    <tr>\n",
       "      <th>9</th>\n",
       "      <td>5d29ad94964e1939ebe7232546727544c792087db7d0f0...</td>\n",
       "      <td>2020-01</td>\n",
       "      <td>West Yorkshire Police</td>\n",
       "      <td>West Yorkshire Police</td>\n",
       "      <td>-1.882746</td>\n",
       "      <td>53.933807</td>\n",
       "      <td>On or near Cocking Lane</td>\n",
       "      <td>E01010646</td>\n",
       "      <td>Bradford 001A</td>\n",
       "      <td>Violence and sexual offences</td>\n",
       "      <td>Unable to prosecute suspect</td>\n",
       "    </tr>\n",
       "    <tr>\n",
       "      <th>17</th>\n",
       "      <td>7b4fb7cc3bfb2c88e1689077c560577a7405736ffe2e1b...</td>\n",
       "      <td>2020-01</td>\n",
       "      <td>West Yorkshire Police</td>\n",
       "      <td>West Yorkshire Police</td>\n",
       "      <td>-1.819597</td>\n",
       "      <td>53.923411</td>\n",
       "      <td>On or near Sefton Drive</td>\n",
       "      <td>E01010692</td>\n",
       "      <td>Bradford 001D</td>\n",
       "      <td>Violence and sexual offences</td>\n",
       "      <td>Status update unavailable</td>\n",
       "    </tr>\n",
       "    <tr>\n",
       "      <th>18</th>\n",
       "      <td>7c7817bf2a06b55252c23564380da0513565ae74e1ddad...</td>\n",
       "      <td>2020-01</td>\n",
       "      <td>West Yorkshire Police</td>\n",
       "      <td>West Yorkshire Police</td>\n",
       "      <td>-1.819121</td>\n",
       "      <td>53.920696</td>\n",
       "      <td>On or near Crossbeck Close</td>\n",
       "      <td>E01010692</td>\n",
       "      <td>Bradford 001D</td>\n",
       "      <td>Violence and sexual offences</td>\n",
       "      <td>Unable to prosecute suspect</td>\n",
       "    </tr>\n",
       "    <tr>\n",
       "      <th>54</th>\n",
       "      <td>53f74a72854880766153d7ec0aa9666431a95048a849a4...</td>\n",
       "      <td>2020-01</td>\n",
       "      <td>West Yorkshire Police</td>\n",
       "      <td>West Yorkshire Police</td>\n",
       "      <td>-1.822354</td>\n",
       "      <td>53.926776</td>\n",
       "      <td>On or near Weston Road</td>\n",
       "      <td>E01010695</td>\n",
       "      <td>Bradford 002D</td>\n",
       "      <td>Violence and sexual offences</td>\n",
       "      <td>Unable to prosecute suspect</td>\n",
       "    </tr>\n",
       "    <tr>\n",
       "      <th>55</th>\n",
       "      <td>6d2ee7ca0f7a8be94f733efa115532906d6f4589828356...</td>\n",
       "      <td>2020-01</td>\n",
       "      <td>West Yorkshire Police</td>\n",
       "      <td>West Yorkshire Police</td>\n",
       "      <td>-1.820732</td>\n",
       "      <td>53.925147</td>\n",
       "      <td>On or near Parking Area</td>\n",
       "      <td>E01010695</td>\n",
       "      <td>Bradford 002D</td>\n",
       "      <td>Violence and sexual offences</td>\n",
       "      <td>Unable to prosecute suspect</td>\n",
       "    </tr>\n",
       "  </tbody>\n",
       "</table>\n",
       "</div>"
      ],
      "text/plain": [
       "                                             Crime ID    Month  \\\n",
       "9   5d29ad94964e1939ebe7232546727544c792087db7d0f0...  2020-01   \n",
       "17  7b4fb7cc3bfb2c88e1689077c560577a7405736ffe2e1b...  2020-01   \n",
       "18  7c7817bf2a06b55252c23564380da0513565ae74e1ddad...  2020-01   \n",
       "54  53f74a72854880766153d7ec0aa9666431a95048a849a4...  2020-01   \n",
       "55  6d2ee7ca0f7a8be94f733efa115532906d6f4589828356...  2020-01   \n",
       "\n",
       "              Reported by           Falls within  Longitude   Latitude  \\\n",
       "9   West Yorkshire Police  West Yorkshire Police  -1.882746  53.933807   \n",
       "17  West Yorkshire Police  West Yorkshire Police  -1.819597  53.923411   \n",
       "18  West Yorkshire Police  West Yorkshire Police  -1.819121  53.920696   \n",
       "54  West Yorkshire Police  West Yorkshire Police  -1.822354  53.926776   \n",
       "55  West Yorkshire Police  West Yorkshire Police  -1.820732  53.925147   \n",
       "\n",
       "                      Location  LSOA code      LSOA name  \\\n",
       "9      On or near Cocking Lane  E01010646  Bradford 001A   \n",
       "17     On or near Sefton Drive  E01010692  Bradford 001D   \n",
       "18  On or near Crossbeck Close  E01010692  Bradford 001D   \n",
       "54      On or near Weston Road  E01010695  Bradford 002D   \n",
       "55     On or near Parking Area  E01010695  Bradford 002D   \n",
       "\n",
       "                      Crime type        Last outcome category  \n",
       "9   Violence and sexual offences  Unable to prosecute suspect  \n",
       "17  Violence and sexual offences    Status update unavailable  \n",
       "18  Violence and sexual offences  Unable to prosecute suspect  \n",
       "54  Violence and sexual offences  Unable to prosecute suspect  \n",
       "55  Violence and sexual offences  Unable to prosecute suspect  "
      ]
     },
     "execution_count": 74,
     "metadata": {},
     "output_type": "execute_result"
    }
   ],
   "source": [
    "violence = uk_police[uk_police['Crime type']=='Violence and sexual offences']\n",
    "violence.head(5)"
   ]
  },
  {
   "cell_type": "code",
   "execution_count": 75,
   "id": "d66b6b10",
   "metadata": {},
   "outputs": [],
   "source": [
    "violence.reset_index(inplace=True)"
   ]
  },
  {
   "cell_type": "code",
   "execution_count": 77,
   "id": "09c16032",
   "metadata": {},
   "outputs": [
    {
     "data": {
      "image/png": "[encoded data removed]",
      "text/plain": [
       "<Figure size 720x360 with 1 Axes>"
      ]
     },
     "metadata": {
      "needs_background": "light"
     },
     "output_type": "display_data"
    }
   ],
   "source": [
    "month_violence = violence.groupby(['Month']).agg(Count = ('Crime ID','count'))\n",
    "month_violence.plot(figsize = (10,5))\n",
    "plt.title('tendencia de violencie and sexual offences reportado')\n",
    "plt.xlabel('Date')\n",
    "plt.ylabel('Count')\n",
    "plt.legend(['Reportes'])\n",
    "plt.show()"
   ]
  },
  {
   "cell_type": "markdown",
   "id": "0f4589e9",
   "metadata": {},
   "source": [
    "se puede cortar en 2 trozos para tener una idea general de los reportes de `violence and sexual offences`\n",
    "1. en el periodo 2018 a inicios del 2020, los casos reportados tenian una comportamiento constantes, teniendo ligeron subidas y bajadas pero teniendo una media constante entre los largo del tiempo.\n",
    "\n",
    "2. Periodo mediados 2020 a 2021, Se ven que los casos tienen un bajon muy grande en el mes de abril del 2020 masomenos, pero la subida es muy grande a solo 2 meses de esto, despues de estas bajadas se ve que tiene una subida de los casos mas altos en comparacion de los casos anteriores a estos periodos subiendo la media de reportes, sacando los picos bajos "
   ]
  },
  {
   "cell_type": "code",
   "execution_count": 81,
   "id": "6444bc7a",
   "metadata": {},
   "outputs": [
    {
     "data": {
      "text/plain": [
       "Unable to prosecute suspect                            0.515330\n",
       "Investigation complete; no suspect identified          0.175570\n",
       "Status update unavailable                              0.115948\n",
       "Under investigation                                    0.060243\n",
       "Court result unavailable                               0.048021\n",
       "Action to be taken by another organisation             0.020340\n",
       "Local resolution                                       0.016193\n",
       "Offender given a caution                               0.011718\n",
       "Awaiting court outcome                                 0.011446\n",
       "Further investigation is not in the public interest    0.010752\n",
       "Formal action is not in the public interest            0.006687\n",
       "Further action is not in the public interest           0.003043\n",
       "Offender given community sentence                      0.001269\n",
       "Defendant found not guilty                             0.000798\n",
       "Offender sent to prison                                0.000753\n",
       "Court case unable to proceed                           0.000543\n",
       "Offender fined                                         0.000400\n",
       "Offender given suspended prison sentence               0.000348\n",
       "Offender given conditional discharge                   0.000273\n",
       "Offender given penalty notice                          0.000118\n",
       "Offender ordered to pay compensation                   0.000057\n",
       "Offender otherwise dealt with                          0.000049\n",
       "Defendant sent to Crown Court                          0.000047\n",
       "Suspect charged as part of another case                0.000039\n",
       "Offender given absolute discharge                      0.000007\n",
       "Offender given a drugs possession warning              0.000006\n",
       "Name: Last outcome category, dtype: float64"
      ]
     },
     "execution_count": 81,
     "metadata": {},
     "output_type": "execute_result"
    }
   ],
   "source": [
    "violence['Last outcome category'].value_counts(normalize = True)"
   ]
  },
  {
   "cell_type": "markdown",
   "id": "2e63c0d9",
   "metadata": {},
   "source": [
    "En las mayorias de los casos de Violence and sexual offences terminan de manera inconclusa, no se logra procesar al sujeto acusado, esto debe ser revisado con mas en detalle con las fichas tecnicas de los casos reportados"
   ]
  },
  {
   "cell_type": "code",
   "execution_count": 85,
   "id": "2f415e4b",
   "metadata": {},
   "outputs": [
    {
     "data": {
      "text/plain": [
       "No Location                          2.435407e-02\n",
       "On or near Parking Area              2.311623e-02\n",
       "On or near Supermarket               1.700121e-02\n",
       "On or near Sports/Recreation Area    1.652292e-02\n",
       "On or near Shopping Area             1.012998e-02\n",
       "                                         ...     \n",
       "On or near Saltersford Grove         1.766836e-07\n",
       "On or near Chiltley Lane             1.766836e-07\n",
       "On or near Lords Stile Lane          1.766836e-07\n",
       "On or near Lymegrove                 1.766836e-07\n",
       "On or near Roach                     1.766836e-07\n",
       "Name: Location, Length: 229585, dtype: float64"
      ]
     },
     "execution_count": 85,
     "metadata": {},
     "output_type": "execute_result"
    }
   ],
   "source": [
    "violence['Location'].value_counts(normalize=True)"
   ]
  },
  {
   "cell_type": "markdown",
   "id": "f474c2d6",
   "metadata": {},
   "source": [
    "Los casos reportados estan muy dispersas por todo el territorio de UK, haciendo esto un problema de gran rango para la sociedad y se debe aumentar el control policial"
   ]
  },
  {
   "cell_type": "markdown",
   "id": "9e54f910",
   "metadata": {},
   "source": [
    "---\n",
    "## Conclusion:\n",
    "\n",
    "* Los casos que mas se registraron a lo largo del periodo 2018 a 2021 es Violence and Sexual offences, de los cuales la investigacion termina sin poder procesar al sujeto acusado; los casos reportados estan muy altos en los tiempos actuales, se ve que el delito se hace a lo largo de todo el territorio UK\n",
    "* El lugar donde mas se registran es el Supermercados, donde los delitos son de menor grado, la conclusion de estas investigaciones terminan sin conocer quien fue el causante del delito, y donde mas se reportan estos delitos menores del supermercado es en `Metropolitan Police Service`\n",
    "* Dentro de Metropolitan Police Service se ve que los casos mas reportados son delitos muy graves como anti-social behaviour y Violence and Sexual offences"
   ]
  }
 ],
 "metadata": {
  "kernelspec": {
   "display_name": "Python 3",
   "language": "python",
   "name": "python3"
  },
  "language_info": {
   "codemirror_mode": {
    "name": "ipython",
    "version": 3
   },
   "file_extension": ".py",
   "mimetype": "text/x-python",
   "name": "python",
   "nbconvert_exporter": "python",
   "pygments_lexer": "ipython3",
   "version": "3.8.8"
  }
 },
 "nbformat": 4,
 "nbformat_minor": 5
}
